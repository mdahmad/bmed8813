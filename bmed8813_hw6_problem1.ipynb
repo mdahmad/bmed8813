{
 "cells": [
  {
   "cell_type": "markdown",
   "metadata": {},
   "source": [
    "### Homework 6: Bioinformatics\n",
    "### Problem 1\n",
    "### (◕‿◕✿)\n",
    "**BMED8813<br>Maria Ahmad**"
   ]
  },
  {
   "cell_type": "markdown",
   "metadata": {},
   "source": [
    "Description: Shebang line & imports"
   ]
  },
  {
   "cell_type": "code",
   "execution_count": 13,
   "metadata": {},
   "outputs": [],
   "source": [
    "#! /home/deeto/anaconda3/bin/python\n",
    "\n",
    "import numpy\n",
    "import scipy.io\n",
    "import matplotlib.pyplot as plt\n",
    "import math\n",
    "from sklearn.cluster import KMeans"
   ]
  },
  {
   "cell_type": "markdown",
   "metadata": {},
   "source": [
    "#1 **Clustering**. Unlike classification, clustering is an “unsupervised” machine learning technique. This means that you do not have any labels–the true class membership of each point is unknown. This kind of analysis is common when you are exploring a dataset, such as to look for new subtypes of a disease to inform its treatment.\n",
    "<p> Sample data is provided in the file data.mat, included in the ZIP archive provided with this assignment. Create a script named problem1.m or problem1.py. Lay out these three figures in one window, as a 1x3 matrix of subplots:<br/>Part a) <br/><p/>\n",
    "\n",
    "* Draw the data points as a scatterplot, with the data shown as black X’s."
   ]
  },
  {
   "cell_type": "code",
   "execution_count": 14,
   "metadata": {},
   "outputs": [],
   "source": [
    "def part_a_read_and_plot_data():\n",
    "    # load in the data\n",
    "    theDict = scipy.io.loadmat(\"./data.mat\")\n",
    "    data = theDict['data']\n",
    "    \n",
    "    # plot the data as a scatterplot, each point as black X\n",
    "    fig = plt.figure()\n",
    "    ax = fig.add_axes([0,0,1,1])\n",
    "    \n",
    "    # x and y values\n",
    "    x_values = data[:,0]\n",
    "    y_values = data[:,1]\n",
    "    \n",
    "    ax.scatter(x_values,y_values,color='black',marker='x')\n",
    "    \n",
    "    ax.set_xlabel('X values')\n",
    "    ax.set_ylabel('Y values')\n",
    "    ax.set_title('Scatter plot')\n",
    "    \n",
    "    plt.show()\n",
    "    plt.savefig('problem1a.png')\n",
    "    plt.close()\n",
    "    return data"
   ]
  },
  {
   "cell_type": "markdown",
   "metadata": {},
   "source": [
    "Part b) Perform k-means clustering on the data with k=2 clusters. Draw the data in your second subplot window, with different markers having different color and shape for each cluster."
   ]
  },
  {
   "cell_type": "code",
   "execution_count": 15,
   "metadata": {},
   "outputs": [],
   "source": [
    "def part_b_k_clustering(data):\n",
    "    # K means clustering\n",
    "    # initialize K\n",
    "    k = 2\n",
    "    kmeans = KMeans(n_clusters = k, random_state=0).fit(data)\n",
    "    cluster_labels = kmeans.labels_\n",
    "    \n",
    "    # initialize cluster lists\n",
    "    cluster1 = []\n",
    "    cluster2 = []\n",
    "    \n",
    "    # sort the data into cluster lists\n",
    "    index = 0\n",
    "    for sample in data:\n",
    "        label = cluster_labels[index]\n",
    "        if label == 0:\n",
    "            cluster1.append(sample)\n",
    "        elif label == 1:\n",
    "            cluster2.append(sample)\n",
    "        index += 1\n",
    "    \n",
    "    # plot the information\n",
    "    fig = plt.figure()\n",
    "    ax = fig.add_axes([0,0,1,1])\n",
    "    \n",
    "    cluster1 = numpy.array(cluster1)\n",
    "    cluster2 = numpy.array(cluster2)\n",
    "    \n",
    "    x1_values = cluster1[:,0]\n",
    "    y1_values = cluster1[:,1]\n",
    "    \n",
    "    x2_values = cluster2[:,0]\n",
    "    y2_values = cluster2[:,1]\n",
    "    \n",
    "    ax.scatter(x1_values,y1_values,color='green',marker='x')\n",
    "    ax.scatter(x2_values,y2_values,color='pink',marker='x')\n",
    "    \n",
    "    ax.set_xlabel('X values')\n",
    "    ax.set_ylabel('Y values')\n",
    "    ax.set_title('Scatter plot: Clustered (k = 2)')\n",
    "    \n",
    "    plt.show()\n",
    "    plt.savefig('problem1b.png')\n",
    "    plt.close()\n",
    "    return"
   ]
  },
  {
   "cell_type": "markdown",
   "metadata": {},
   "source": [
    "Part c) For the final plot, do this again but with k=3 clusters."
   ]
  },
  {
   "cell_type": "code",
   "execution_count": 16,
   "metadata": {},
   "outputs": [],
   "source": [
    "def part_c_k3(data):\n",
    "    # K means clustering\n",
    "    # initialize K\n",
    "    k = 3\n",
    "    kmeans = KMeans(n_clusters = k, random_state=0).fit(data)\n",
    "    cluster_labels = kmeans.labels_\n",
    "    \n",
    "    cluster1 = []\n",
    "    cluster2 = []\n",
    "    cluster3 = []\n",
    "    \n",
    "    index = 0\n",
    "    for sample in data:\n",
    "        label = cluster_labels[index]\n",
    "        if label == 0:\n",
    "            cluster1.append(sample)\n",
    "        elif label == 1:\n",
    "            cluster2.append(sample)\n",
    "        elif label == 2:\n",
    "            cluster3.append(sample)\n",
    "        index += 1\n",
    "    \n",
    "    # plot the information\n",
    "    fig = plt.figure()\n",
    "    ax = fig.add_axes([0,0,1,1])\n",
    "    \n",
    "    cluster1 = numpy.array(cluster1)\n",
    "    cluster2 = numpy.array(cluster2)\n",
    "    cluster3 = numpy.array(cluster3)\n",
    "    \n",
    "    x1_values = cluster1[:,0]\n",
    "    y1_values = cluster1[:,1]\n",
    "    \n",
    "    x2_values = cluster2[:,0]\n",
    "    y2_values = cluster2[:,1]\n",
    "    \n",
    "    x3_values = cluster3[:,0]\n",
    "    y3_values = cluster3[:,1]\n",
    "    \n",
    "    ax.scatter(x1_values,y1_values,color='green',marker='x')\n",
    "    ax.scatter(x2_values,y2_values,color='pink',marker='x')\n",
    "    ax.scatter(x3_values,y3_values,color='orange',marker='x')\n",
    "    \n",
    "    ax.set_xlabel('X values')\n",
    "    ax.set_ylabel('Y values')\n",
    "    ax.set_title('Scatter plot: Clustered (k = 3)')\n",
    "    \n",
    "    plt.show()\n",
    "    plt.savefig('problem1c.png')\n",
    "    plt.close()\n",
    "    return"
   ]
  },
  {
   "cell_type": "markdown",
   "metadata": {},
   "source": [
    "Part d) Either in a PDF, or simply in a short comment at the end of your problem1 code file, briefly discuss your results. Which result seems to most closely fit the data? What is an example of a real-world scenario where this kind of machine learning could be useful?"
   ]
  },
  {
   "cell_type": "code",
   "execution_count": 17,
   "metadata": {},
   "outputs": [],
   "source": [
    "def part_d():\n",
    "    answer = '''I thought 2 clusters seemed to fit the data more accurately, \n",
    "because when you look at the raw unlabeled plot, it naturally forms 2 clusters. \n",
    "However, with two clusters, there was 1 point located in the pink cluster that \n",
    "was awkwardly colored green. This tells me that perhaps adding another cluster would help\n",
    "settle the awkwardness and make a cleaner divide in the data. \n",
    "With 3 clusters, the previous pink cluster is split into two, so now there is an orange \n",
    "cluster. Now, there doesn't seem to be a point awkardly located in another cluster, and\n",
    "rather now there is a boundary between the pink and orange points. \n",
    "\n",
    "A real-world scenario where this kind of machine learning could be useful is in plotting\n",
    "principal component analyses of genetic information on a plot, for ancestry determination. \n",
    "When you plot several hundred PCA's of people from different ancestries, the PCA's\n",
    "seem to form clusters on the plot. The people cluster into groups of similar ancestry,\n",
    "so that Europeans tend to cluster together, South Asians tend to cluster together,\n",
    "Africans tend to cluster together, East Asians tend to cluster together, etc. \n",
    "The more k-values you specify, you can get into more and more specific ancestries\n",
    "(such as Finnish Europeans vs English Europeans).\n",
    "This is one method that 23&Me uses to determine your genetic ancestry.\n",
    "\n",
    "    '''\n",
    "    print(answer)\n",
    "    return"
   ]
  },
  {
   "cell_type": "code",
   "execution_count": 18,
   "metadata": {},
   "outputs": [
    {
     "data": {
      "image/png": "[encoded data removed]",
      "text/plain": [
       "<Figure size 432x288 with 1 Axes>"
      ]
     },
     "metadata": {
      "needs_background": "light"
     },
     "output_type": "display_data"
    },
    {
     "data": {
      "image/png": "[encoded data removed]",
      "text/plain": [
       "<Figure size 432x288 with 1 Axes>"
      ]
     },
     "metadata": {
      "needs_background": "light"
     },
     "output_type": "display_data"
    },
    {
     "data": {
      "image/png": "[encoded data removed]",
      "text/plain": [
       "<Figure size 432x288 with 1 Axes>"
      ]
     },
     "metadata": {
      "needs_background": "light"
     },
     "output_type": "display_data"
    },
    {
     "name": "stdout",
     "output_type": "stream",
     "text": [
      "I thought 2 clusters seemed to fit the data more accurately, \n",
      "because when you look at the raw unlabeled plot, it naturally forms 2 clusters. \n",
      "However, with two clusters, there was 1 point located in the pink cluster that \n",
      "was awkwardly colored green. This tells me that perhaps adding another cluster would help\n",
      "settle the awkwardness and make a cleaner divide in the data. \n",
      "With 3 clusters, the previous pink cluster is split into two, so now there is an orange \n",
      "cluster. Now, there doesn't seem to be a point awkardly located in another cluster, and\n",
      "rather now there is a boundary between the pink and orange points. \n",
      "\n",
      "A real-world scenario where this kind of machine learning could be useful is in plotting\n",
      "principal component analyses of genetic information on a plot, for ancestry determination. \n",
      "When you plot several hundred PCA's of people from different ancestries, the PCA's\n",
      "seem to form clusters on the plot. The people cluster into groups of similar ancestry,\n",
      "so that Europeans tend to cluster together, South Asians tend to cluster together,\n",
      "Africans tend to cluster together, East Asians tend to cluster together, etc. \n",
      "The more k-values you specify, you can get into more and more specific ancestries\n",
      "(such as Finnish Europeans vs English Europeans).\n",
      "This is one method that 23&Me uses to determine your genetic ancestry.\n",
      "\n",
      "    \n"
     ]
    }
   ],
   "source": [
    "def main():\n",
    "    data = part_a_read_and_plot_data()\n",
    "    part_b_k_clustering(data)\n",
    "    part_c_k3(data)\n",
    "    part_d()\n",
    "    return\n",
    "main()"
   ]
  }
 ],
 "metadata": {
  "kernelspec": {
   "display_name": "Python 3",
   "language": "python",
   "name": "python3"
  },
  "language_info": {
   "codemirror_mode": {
    "name": "ipython",
    "version": 3
   },
   "file_extension": ".py",
   "mimetype": "text/x-python",
   "name": "python",
   "nbconvert_exporter": "python",
   "pygments_lexer": "ipython3",
   "version": "3.7.6"
  }
 },
 "nbformat": 4,
 "nbformat_minor": 4
}
